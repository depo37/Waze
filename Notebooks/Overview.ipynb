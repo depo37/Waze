{
 "cells": [
  {
   "cell_type": "markdown",
   "metadata": {},
   "source": [
    "# **Google's Advanced Data Analytics Certificate** - *Description*\n",
    "\n",
    "This certificate is divided into 6 modules and at the end of each module is an optional project to test what you have learned using a real world example. The modules and their topics are listed below\n",
    "- **Foundations of Data Science**\n",
    "    - Understand common careers and industries that use advanced data analytics\n",
    "    - Investigate the impact data analysis can have on decision-making\n",
    "    - Explain how data professionals preserve data privacy and ethics \n",
    "    - Develop a project plan considering roles and responsibilities of team members\n",
    "- **Get Started with Python**\n",
    "    - Explain how Python is used by data professionals \n",
    "    - Explore basic Python building blocks, including syntax and semantics\n",
    "    - Understand loops, control statements, and string manipulation\n",
    "    - Use data structures to store and organize data \n",
    "- **Go Beyond the Numbers: Translate Data into Insights**\n",
    "    - Apply the exploratory data analysis (EDA) process\n",
    "    - Explore the benefits of structuring and cleaning data\n",
    "    - Investigate raw data using Python\n",
    "    - Create data visualizations using Tableau \n",
    "- **The Power of Statistics**\n",
    "    - Explore and summarize a dataset \n",
    "    - Use probability distributions to model data\n",
    "    - Conduct a hypothesis test to identify insights about data\n",
    "    - Perform statistical analyses using Python \n",
    "- **Regression Analysis: Simplify Complex Data Relationships**\n",
    "    - Investigate relationships in datasets\n",
    "    - Identify regression model assumptions \n",
    "    - Perform linear and logistic regression using Python\n",
    "    - Practice model evaluation and interpretation\n",
    "- **The Nuts and Bolts of Machine Learning**\n",
    "    - Identify characteristics of the different types of machine learning \n",
    "    - Prepare data for machine learning models \n",
    "    - Build and evaluate supervised and unsupervised learning models using Python\n",
    "    - Demonstrate proper model and metric selection for a machine learning algorithm\n",
    "\n"
   ]
  },
  {
   "cell_type": "markdown",
   "metadata": {},
   "source": [
    "***"
   ]
  },
  {
   "cell_type": "markdown",
   "metadata": {},
   "source": [
    "# **Selected Project** - *Waze*\n",
    "\n",
    "## What is Waze\n",
    "Waze’s free navigation app makes it easier for drivers around the world to get to where they want to go. Waze’s community of map editors, beta testers, translators, partners, and users helps make each drive better and safer. Waze partners with cities, transportation authorities, broadcasters, businesses, and first responders to help as many people as possible travel more efficiently and safely.\n",
    "\n",
    "## What is Your Role at Waze\n",
    "You have just started a new role at Waze on the data team. You’ll collaborate with your Waze teammates to analyze and interpret data, generate valuable insights, and help leadership make informed business decisions.\n",
    "\n",
    "## What is the Project\n",
    "Your team is about to start a new project to help prevent user churn on the Waze app. Churn quantifies the number of users who have uninstalled the Waze app or stopped using the app. In your role, you will analyze user data and develop a machine learning model that predicts user churn. This project is part of a larger effort at Waze to increase growth. Typically, high retention rates indicate satisfied users who repeatedly use the Waze app over time. Developing a churn prediction model will help prevent churn, improve user retention, and grow Waze’s business. An accurate model can also help identify specific factors that contribute to churn and answer questions such as: \n",
    "- Who are the users most likely to churn?\n",
    "- Why do users churn? \n",
    "- When do users churn? \n",
    "\n",
    "For example, if Waze can identify a segment of users who are at high risk of churning, Waze can proactively engage these users with special offers to try and retain them. Otherwise, Waze may simply lose these users without knowing why. \n",
    "\n",
    "Your insights will help Waze leadership optimize the company’s retention strategy, enhance user experience, and make data-driven decisions about product development.  "
   ]
  }
 ],
 "metadata": {
  "language_info": {
   "name": "python"
  }
 },
 "nbformat": 4,
 "nbformat_minor": 2
}
